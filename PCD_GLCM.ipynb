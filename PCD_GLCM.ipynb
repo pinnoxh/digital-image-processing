{
  "nbformat": 4,
  "nbformat_minor": 0,
  "metadata": {
    "colab": {
      "provenance": []
    },
    "kernelspec": {
      "name": "python3",
      "display_name": "Python 3"
    },
    "language_info": {
      "name": "python"
    }
  },
  "cells": [
    {
      "cell_type": "code",
      "execution_count": null,
      "metadata": {
        "id": "QdioFDWP-YS4"
      },
      "outputs": [],
      "source": [
        "import cv2\n",
        "import numpy as np\n",
        "import os\n",
        "from pathlib import Path\n",
        "import mahotas as mt\n",
        "from sklearn.svm import LinearSVC\n",
        "from typing import List, Tuple"
      ]
    },
    {
      "cell_type": "code",
      "source": [
        "def extract_features(image: np.ndarray) -> np.ndarray:\n",
        "    textures = mt.features.haralick(image)\n",
        "    ht_mean = textures.mean(axis=0)\n",
        "    return ht_mean\n",
        "\n",
        "def load_training_data(train_path: str) -> Tuple[np.ndarray, np.ndarray]:\n",
        "    train_features = []\n",
        "    train_labels = []\n",
        "\n",
        "    # Menggunakan Path untuk handling path yang lebih baik\n",
        "    train_dir = Path(train_path)\n",
        "\n",
        "    print(\"Starting feature extraction...\")\n",
        "    for class_dir in train_dir.iterdir():\n",
        "        if class_dir.is_dir():\n",
        "            cur_label = class_dir.name\n",
        "\n",
        "            for i, img_path in enumerate(class_dir.glob(\"*.jpg\"), 1):\n",
        "                print(f\"Processing Image - {i} in {cur_label}\")\n",
        "\n",
        "                # Baca gambar\n",
        "                image = cv2.imread(str(img_path))\n",
        "                if image is None:\n",
        "                    print(f\"Warning: Could not read image {img_path}\")\n",
        "                    continue\n",
        "\n",
        "                # Konversi ke grayscale\n",
        "                gray = cv2.cvtColor(image, cv2.COLOR_BGR2GRAY)\n",
        "\n",
        "                # Ekstrak fitur\n",
        "                features = extract_features(gray)\n",
        "\n",
        "                train_features.append(features)\n",
        "                train_labels.append(cur_label)\n",
        "\n",
        "    return np.array(train_features), np.array(train_labels)\n",
        "\n",
        "def predict_image(model: LinearSVC, image_path: str) -> Tuple[str, np.ndarray]:\n",
        "    image = cv2.imread(image_path)\n",
        "    if image is None:\n",
        "        raise ValueError(f\"Could not read image: {image_path}\")\n",
        "\n",
        "    gray = cv2.cvtColor(image, cv2.COLOR_BGR2GRAY)\n",
        "    features = extract_features(gray)\n",
        "\n",
        "    prediction = model.predict(features.reshape(1, -1))[0]\n",
        "\n",
        "    # Tambahkan prediksi ke gambar\n",
        "    cv2.putText(\n",
        "        image,\n",
        "        prediction,\n",
        "        (20, 30),\n",
        "        cv2.FONT_HERSHEY_SIMPLEX,\n",
        "        1.0,\n",
        "        (0, 255, 255),\n",
        "        3\n",
        "    )\n",
        "\n",
        "    return prediction, image"
      ],
      "metadata": {
        "id": "ZlyDKnsX-hcX"
      },
      "execution_count": null,
      "outputs": []
    },
    {
      "cell_type": "code",
      "source": [
        "def main():\n",
        "    # Path setup\n",
        "    train_path = \"dataset/train\"\n",
        "    test_path = \"dataset/test\"\n",
        "\n",
        "    # Load training data\n",
        "    try:\n",
        "        train_features, train_labels = load_training_data(train_path)\n",
        "        print(f\"Training features shape: {train_features.shape}\")\n",
        "        print(f\"Training labels shape: {train_labels.shape}\")\n",
        "    except Exception as e:\n",
        "        print(f\"Error loading training data: {e}\")\n",
        "        return\n",
        "\n",
        "    # Train classifier\n",
        "    print(\"Creating and training classifier...\")\n",
        "    clf_svm = LinearSVC(random_state=9, max_iter=2000)  # Increased max_iter\n",
        "    clf_svm.fit(train_features, train_labels)\n",
        "\n",
        "    # Process test images\n",
        "    test_dir = Path(test_path)\n",
        "    for img_path in test_dir.glob(\"*.jpg\"):\n",
        "        try:\n",
        "            prediction, processed_image = predict_image(clf_svm, str(img_path))\n",
        "            print(f\"Prediction for {img_path.name}: {prediction}\")\n",
        "\n",
        "            # Display result\n",
        "            cv2.imshow(\"Test Image\", processed_image)\n",
        "            key = cv2.waitKey(0) & 0xFF\n",
        "            if key == 27:  # ESC key\n",
        "                break\n",
        "\n",
        "        except Exception as e:\n",
        "            print(f\"Error processing {img_path}: {e}\")\n",
        "            continue\n",
        "\n",
        "    cv2.destroyAllWindows()\n",
        "\n",
        "if __name__ == \"__main__\":\n",
        "    main()"
      ],
      "metadata": {
        "id": "tQyS449t-kGh"
      },
      "execution_count": null,
      "outputs": []
    }
  ]
}